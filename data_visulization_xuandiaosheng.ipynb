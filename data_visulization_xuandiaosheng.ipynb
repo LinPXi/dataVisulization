{
 "cells": [
  {
   "cell_type": "code",
   "execution_count": 1,
   "id": "91f4cdb8",
   "metadata": {},
   "outputs": [],
   "source": [
    "#!/usr/bin/env python\n",
    "# coding: utf-8\n",
    "# https://gallery.pyecharts.org/#/Sunburst/drink_flavors  \n",
    "# https://www.bilibili.com/read/cv9333751/  \n",
    "# https://colors.eva.design/  \n",
    "# https://webgradients.com/  \n",
    "# https://echarts.apache.org/examples/en/editor.html?c=sunburst-drink&lang=js  \n",
    "# https://jisuan5.com/hexadecimal-to-decimal/  \n"
   ]
  },
  {
   "cell_type": "code",
   "execution_count": 2,
   "id": "a1f41d7d",
   "metadata": {},
   "outputs": [],
   "source": [
    "#引入Excel库的xlrd\n",
    "import xlrd"
   ]
  },
  {
   "cell_type": "code",
   "execution_count": 3,
   "id": "c4aaa006",
   "metadata": {},
   "outputs": [],
   "source": [
    "#导入需要读取Excel表格的路径\n",
    "shengShiQu = xlrd.open_workbook('shengShiQu.xlsx')\n",
    "table_shengShiQu = shengShiQu.sheets()[0]\n",
    "map_city_province = dict()\n",
    "for rown in range(1, table_shengShiQu.nrows):\n",
    "    map_city_province[table_shengShiQu.cell_value(rown, 3)] = table_shengShiQu.cell_value(rown, 1)"
   ]
  },
  {
   "cell_type": "code",
   "execution_count": 4,
   "id": "3cfd5fd1",
   "metadata": {
    "scrolled": true
   },
   "outputs": [],
   "source": [
    "# print(\"各城市对应省份：\", map_city_province)"
   ]
  },
  {
   "cell_type": "code",
   "execution_count": 5,
   "id": "c5cfa700",
   "metadata": {},
   "outputs": [],
   "source": [
    "#导入需要读取Excel表格的路径\n",
    "daQu = xlrd.open_workbook('daQu.xlsx')\n",
    "table_daQu = daQu.sheets()[0]\n",
    "map_province_district = dict()\n",
    "for rown in range(1, table_daQu.nrows):\n",
    "    map_province_district[table_daQu.cell_value(rown, 0)] = table_daQu.cell_value(rown, 1)"
   ]
  },
  {
   "cell_type": "code",
   "execution_count": 6,
   "id": "5e8b73ef",
   "metadata": {},
   "outputs": [],
   "source": [
    "# print(\"各省份对应大区：\", map_province_district)"
   ]
  },
  {
   "cell_type": "code",
   "execution_count": 7,
   "id": "f6a8d6a4",
   "metadata": {},
   "outputs": [],
   "source": [
    "#导入需要读取Excel表格的路径\n",
    "quanGuoXueXiao = xlrd.open_workbook('quanGuoXueXiao.xlsx')\n",
    "table_quanGuoXueXiao = quanGuoXueXiao.sheets()[0]\n",
    "num_school_department = dict()\n",
    "map_school_department = dict()\n",
    "map_school_city = dict()"
   ]
  },
  {
   "cell_type": "code",
   "execution_count": 8,
   "id": "af70e6ed",
   "metadata": {},
   "outputs": [],
   "source": [
    "for rown in range(table_quanGuoXueXiao.nrows):\n",
    "#     schoolCity[table_quanGuoXueXiao.cell_value(rown, 3)].append(table_quanGuoXueXiao.cell_value(rown, 1))\n",
    "    if table_quanGuoXueXiao.cell_value(rown, 3) not in num_school_department:\n",
    "        num_school_department[table_quanGuoXueXiao.cell_value(rown, 3)] = 1\n",
    "    else:\n",
    "        num_school_department[table_quanGuoXueXiao.cell_value(rown, 3)] += 1\n",
    "    map_school_department[table_quanGuoXueXiao.cell_value(rown, 1)] = table_quanGuoXueXiao.cell_value(rown, 3)\n",
    "    map_school_city[table_quanGuoXueXiao.cell_value(rown, 1)] = table_quanGuoXueXiao.cell_value(rown, 4)"
   ]
  },
  {
   "cell_type": "code",
   "execution_count": 9,
   "id": "e901e936",
   "metadata": {},
   "outputs": [],
   "source": [
    "# print(\"各个部门所属高校数量：\", num_school_department)\n",
    "# print(\"各校对应部门：\", map_school_department)\n",
    "# print(\"各校对应城市：\", map_school_city)"
   ]
  },
  {
   "cell_type": "code",
   "execution_count": 10,
   "id": "631a8d46",
   "metadata": {},
   "outputs": [],
   "source": [
    "def import_excel(excel):\n",
    "    num_gender = dict()\n",
    "    num_degree = dict()\n",
    "    num_class_school = dict()\n",
    "    num_department = dict()\n",
    "    num_city = dict()\n",
    "    num_province = dict()\n",
    "    \n",
    "    for rown in range(1, excel.nrows):\n",
    "#         性别\n",
    "        if  table.cell_value(rown,2) not in num_gender:\n",
    "            num_gender[table.cell_value(rown, 2)] = 1\n",
    "        else:\n",
    "            num_gender[table.cell_value(rown, 2)] += 1\n",
    "#         学历层次\n",
    "        if  table.cell_value(rown,3) not in  num_degree:\n",
    "            num_degree[table.cell_value(rown, 3)] = 1\n",
    "        else:\n",
    "            num_degree[table.cell_value(rown, 3)] += 1\n",
    "#         学校类别\n",
    "        if  table.cell_value(rown, 4) not in num_class_school:\n",
    "            num_class_school[table.cell_value(rown, 4)] = 1\n",
    "        else:\n",
    "            num_class_school[table.cell_value(rown, 4)] += 1\n",
    "#         学校所属部门\n",
    "        if table.cell_value(rown, 4) in map_school_department:\n",
    "            if  map_school_department[table.cell_value(rown, 4)] not in num_department:\n",
    "                num_department[map_school_department[table.cell_value(rown, 4)]] = 1\n",
    "            else:\n",
    "                num_department[map_school_department[table.cell_value(rown, 4)]] += 1\n",
    "        else:\n",
    "            if table.cell_value(rown, 4) in num_department:\n",
    "                num_department[table.cell_value(rown, 4)] += 1\n",
    "            else:\n",
    "                num_department[table.cell_value(rown, 4)] = 1\n",
    "#         学校所在城市\n",
    "        if  map_school_city[table.cell_value(rown, 4)] not in num_city:\n",
    "                num_city[map_school_city[table.cell_value(rown, 4)]] = 1\n",
    "        else:\n",
    "            num_city[map_school_city[table.cell_value(rown, 4)]] += 1\n",
    "#         学校所在省份\n",
    "#         print(\"debug\", rown, \": \", table.cell_value(rown, 4), map_school_city[table.cell_value(rown, 4)], map_city_province[map_school_city[table.cell_value(rown, 4)]])\n",
    "        if map_city_province[map_school_city[table.cell_value(rown, 4)]] not in num_province:\n",
    "                num_province[map_city_province[map_school_city[table.cell_value(rown, 4)]]] = 1\n",
    "        else:\n",
    "            num_province[map_city_province[map_school_city[table.cell_value(rown, 4)]]] += 1\n",
    "        \n",
    "    num_class_school_sorted = dict(sorted(num_class_school.items(), key=lambda x: x[1], reverse=True))\n",
    "    num_department_sorted = dict(sorted(num_department.items(), key=lambda x: x[1], reverse=True))\n",
    "    num_city_sorted = dict(sorted(num_city.items(), key=lambda x: x[1], reverse=True))\n",
    "    num_province_sorted = dict(sorted(num_province.items(), key=lambda x: x[1], reverse=True))\n",
    "    \n",
    "    \n",
    "    return num_gender, num_degree, num_class_school_sorted, num_department_sorted, num_city_sorted, num_province_sorted"
   ]
  },
  {
   "cell_type": "code",
   "execution_count": 11,
   "id": "69a32bb1",
   "metadata": {
    "scrolled": true
   },
   "outputs": [],
   "source": [
    "if __name__ == '__main__':\n",
    "    #导入需要读取Excel表格的路径\n",
    "    data = xlrd.open_workbook('HUNAN_2022_xuandiaosheng.xlsx')\n",
    "    table = data.sheets()[0]\n",
    "  #将excel表格的内容导入到列表中\n",
    "    num_gender, num_degree, num_class_school_sorted, num_department_sorted, num_city_sorted, num_province_sorted = import_excel(table)\n",
    "  \n",
    "#     print(\"性别数量:\", num_gender)\n",
    "#     print(\"学位类别与对应数量:\", num_degree)\n",
    "#     print(\"学校类别与对应数量:\", num_class_school_sorted)      \n",
    "#     print(\"高校所属部门类别与对应数量:\", num_department_sorted)\n",
    "#     print(\"高校所属城市类别与对应数量:\", num_city_sorted)\n",
    "#     print(\"高校所属省份类别与对应数量:\", num_province_sorted)"
   ]
  },
  {
   "cell_type": "code",
   "execution_count": 14,
   "id": "21743266",
   "metadata": {},
   "outputs": [],
   "source": [
    "# 没啥用 下次再休整代码\n",
    "import numpy as np\n",
    "color_cnt = 0\n",
    "color_num = 110\n",
    "def randomcolor(i):\n",
    "    random_number = np.random.randint(0,16777215)\n",
    "    hex_number = str(hex(random_number))\n",
    "    return '#'+ hex_number[2:]"
   ]
  },
  {
   "cell_type": "code",
   "execution_count": 16,
   "id": "f9af9923",
   "metadata": {},
   "outputs": [],
   "source": [
    "school_list = list()\n",
    "for i, key in enumerate(num_class_school_sorted.keys()):\n",
    "    school = dict()\n",
    "    itemStyle = dict()\n",
    "    itemStyle[\"color\"] = randomcolor(color_cnt%color_num)\n",
    "    color_cnt += 1\n",
    "    \n",
    "#     print(i, key)\n",
    "    school[\"name\"] = key\n",
    "    school[\"value\"] =  num_class_school_sorted[key]\n",
    "    school[\"itemStyle\"] = itemStyle\n",
    "#     print(school)\n",
    "    school_list.append(school)"
   ]
  },
  {
   "cell_type": "code",
   "execution_count": 17,
   "id": "513f085e",
   "metadata": {},
   "outputs": [],
   "source": [
    "# school_list"
   ]
  },
  {
   "cell_type": "code",
   "execution_count": 18,
   "id": "0165a2c4",
   "metadata": {},
   "outputs": [],
   "source": [
    "city_list = list()\n",
    "for i, key in enumerate(num_city_sorted.keys()):\n",
    "    itemStyle = dict()\n",
    "    itemStyle[\"color\"] = randomcolor(color_cnt%color_num)\n",
    "    color_cnt += 1\n",
    "    \n",
    "    city = dict()\n",
    "#     print(i, key)\n",
    "    city[\"name\"] = key\n",
    "    city[\"itemStyle\"] = itemStyle\n",
    "    \n",
    "    city_school = list()\n",
    "    for i, key1 in enumerate(school_list):\n",
    "    #     print(i, key1, key1[\"name\"], map_school_city[key1[\"name\"]])\n",
    "        if map_school_city[key1[\"name\"]] == key:\n",
    "            city_school.append(school_list[i])\n",
    "    city[\"children\"] =  city_school    \n",
    "    \n",
    "    city_list.append(city)"
   ]
  },
  {
   "cell_type": "code",
   "execution_count": 19,
   "id": "b07f6656",
   "metadata": {},
   "outputs": [],
   "source": [
    "# city_list"
   ]
  },
  {
   "cell_type": "code",
   "execution_count": 20,
   "id": "7e2a6658",
   "metadata": {},
   "outputs": [],
   "source": [
    "province_list = list()\n",
    "for i, key in enumerate(num_province_sorted.keys()):\n",
    "    itemStyle = dict()\n",
    "    itemStyle[\"color\"] = randomcolor(color_cnt%color_num)\n",
    "    color_cnt += 1\n",
    "    \n",
    "    province = dict()\n",
    "#     print(i, key)\n",
    "    province[\"name\"] = key\n",
    "    province[\"itemStyle\"] = itemStyle\n",
    "    \n",
    "    province_city = list()\n",
    "    for i, key1 in enumerate(city_list):\n",
    "    #     print(i, key1, key1[\"name\"], map_school_city[key1[\"name\"]])\n",
    "        if map_city_province[key1[\"name\"]] == key:\n",
    "            province_city.append(city_list[i])\n",
    "    province[\"children\"] =  province_city    \n",
    "\n",
    "    province_list.append(province)"
   ]
  },
  {
   "cell_type": "code",
   "execution_count": 21,
   "id": "6df9a8fe",
   "metadata": {},
   "outputs": [],
   "source": [
    "# province_list"
   ]
  },
  {
   "cell_type": "code",
   "execution_count": 22,
   "id": "8afcaad4",
   "metadata": {},
   "outputs": [],
   "source": [
    "districts = ['华中', '华北', '华东', '华南',  '西南', '东北', '西北']"
   ]
  },
  {
   "cell_type": "code",
   "execution_count": 23,
   "id": "9a7ea36f",
   "metadata": {},
   "outputs": [],
   "source": [
    "district_list = list()\n",
    "for i, key in enumerate(districts):\n",
    "    itemStyle = dict()\n",
    "    itemStyle[\"color\"] = randomcolor(color_cnt%color_num)\n",
    "    color_cnt += 1\n",
    "    \n",
    "    district = dict()\n",
    "#     print(i, key)\n",
    "    district[\"name\"] = key\n",
    "    district[\"itemStyle\"] = itemStyle\n",
    "    \n",
    "    district_province = list()\n",
    "    for i, key1 in enumerate(province_list):\n",
    "        if map_province_district[key1[\"name\"]] == key:\n",
    "            district_province.append(province_list[i])\n",
    "    district[\"children\"] =  district_province    \n",
    "\n",
    "    district_list.append(district)"
   ]
  },
  {
   "cell_type": "code",
   "execution_count": 24,
   "id": "73db9bc3",
   "metadata": {},
   "outputs": [],
   "source": [
    "# district_list"
   ]
  },
  {
   "cell_type": "code",
   "execution_count": 25,
   "id": "19bc74d1",
   "metadata": {},
   "outputs": [],
   "source": [
    "color_library = []\n",
    "gradient_color = [(14502993,14836510), (11573043, 14795541), (1604143, 3842645), (237496\n",
    ",8431773), (13280357, 14528353),  (10579034, 13076790),  (15095858, 13916761)]\n",
    "\n",
    "import numpy as np\n",
    "for i in range(len(gradient_color)):\n",
    "    color_library.append(np.linspace(start=gradient_color[i][0], stop=gradient_color[i][1], num=200, endpoint=False, dtype=int))\n"
   ]
  },
  {
   "cell_type": "code",
   "execution_count": 26,
   "id": "bb37606a",
   "metadata": {},
   "outputs": [],
   "source": [
    "# color_library.sort(key=lambda x: (-x[0], -x[1]))"
   ]
  },
  {
   "cell_type": "code",
   "execution_count": 27,
   "id": "226fc162",
   "metadata": {},
   "outputs": [],
   "source": [
    "#渐进色\n",
    "gradient_color_cnt = [0, 0, 0, 0, 0, 0, 0]\n",
    "def randomcolori1(a):\n",
    "    random_number = color_library[a][gradient_color_cnt[a]]\n",
    "    gradient_color_cnt[a] += 1\n",
    "    hex_number = str(hex(random_number))\n",
    "    hex_number = hex_number[2:]\n",
    "    while len(hex_number) < 6:\n",
    "        hex_number = '0' + hex_number\n",
    "    return '#'+ hex_number"
   ]
  },
  {
   "cell_type": "code",
   "execution_count": 28,
   "id": "b8c6cc72",
   "metadata": {},
   "outputs": [],
   "source": [
    "#事后重调颜色\n",
    "for i1, data1 in enumerate(district_list):\n",
    "    data1['itemStyle']['color'] = randomcolori1(i1)\n",
    "    for i2, data2 in enumerate(data1['children']):\n",
    "        data2['itemStyle']['color'] = randomcolori1(i1)\n",
    "        for i3, data3 in enumerate(data2['children']):\n",
    "            data3['itemStyle']['color'] = randomcolori1(i1)\n",
    "            for i4, data4 in enumerate(data3['children']):\n",
    "                data4['itemStyle']['color'] = randomcolori1(i1)\n",
    "               "
   ]
  },
  {
   "cell_type": "code",
   "execution_count": 29,
   "id": "c07aa369",
   "metadata": {},
   "outputs": [],
   "source": [
    "# district_list"
   ]
  },
  {
   "cell_type": "code",
   "execution_count": 30,
   "id": "29d4e406",
   "metadata": {},
   "outputs": [],
   "source": [
    "from pyecharts.charts import Sunburst\n",
    "from pyecharts import options as opts\n",
    "\n",
    "\"\"\"\n",
    "Gallery 使用 pyecharts 1.2.1\n",
    "参考地址: https://www.echartsjs.com/examples/editor.html?c=sunburst-simple\n",
    "\n",
    "目前无法实现的功能:\n",
    "\n",
    "1、暂无\n",
    "\"\"\"\n",
    "\n",
    "data = district_list\n",
    "c = (\n",
    "    Sunburst(init_opts=opts.InitOpts(width=\"1000px\", height=\"600px\"))\n",
    "    .add(\n",
    "        \"\",\n",
    "        data_pair=data,\n",
    "        highlight_policy=\"ancestor\",\n",
    "        radius=[0, \"95%\"],\n",
    "        sort_=\"null\",\n",
    "        levels=[\n",
    "            {},\n",
    "            {\n",
    "                \"r0\": \"10%\",\n",
    "                \"r\": \"25%\",\n",
    "                \"itemStyle\": {\"borderWidth\": 1},\n",
    "                \"label\": {\"rotate\": \"tangential\"},\n",
    "            },\n",
    "            {\n",
    "                \"r0\": \"25%\",\n",
    "                \"r\": \"45%\",\n",
    "                \"itemStyle\": {\"borderWidth\": 1},\n",
    "                \"label\": {\"rotate\": \"right\"},\n",
    "            },\n",
    "            {\"r0\": \"45%\", \"r\": \"70%\", \"itemStyle\": {\"borderWidth\": 1}, \"label\": {\"align\": \"right\"}},\n",
    "            {\n",
    "                \"r0\": \"70%\",\n",
    "                \"r\": \"73%\",\n",
    "                \"label\": {\"position\": \"outside\", \"padding\": 3, \"silent\": False},\n",
    "                \"itemStyle\": {\"borderWidth\": 3},\n",
    "            },\n",
    "        ],\n",
    "    )\n",
    "    .set_global_opts(title_opts=opts.TitleOpts(title=\"大区-省-市-学校-对应人数\", subtitle=\"湖南2022选调分析-图1\"))\n",
    "    .set_series_opts(label_opts=opts.LabelOpts(formatter=\"{b}\"))\n",
    "    .render(\"湖南2022选调分析-图1.html\")\n",
    ")\n"
   ]
  }
 ],
 "metadata": {
  "kernelspec": {
   "display_name": "Python [conda env:molPropPred-master] *",
   "language": "python",
   "name": "conda-env-molPropPred-master-py"
  },
  "language_info": {
   "codemirror_mode": {
    "name": "ipython",
    "version": 3
   },
   "file_extension": ".py",
   "mimetype": "text/x-python",
   "name": "python",
   "nbconvert_exporter": "python",
   "pygments_lexer": "ipython3",
   "version": "3.7.1"
  }
 },
 "nbformat": 4,
 "nbformat_minor": 5
}
